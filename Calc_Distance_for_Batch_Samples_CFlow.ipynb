{
 "cells": [
  {
   "cell_type": "markdown",
   "id": "9431f8e0",
   "metadata": {},
   "source": [
    "# Calculate Distance"
   ]
  },
  {
   "cell_type": "markdown",
   "id": "81ba5ff6",
   "metadata": {},
   "source": [
    "## Get files"
   ]
  },
  {
   "cell_type": "code",
   "execution_count": 149,
   "id": "9cc6ee73",
   "metadata": {},
   "outputs": [],
   "source": [
    "import os\n",
    "import nipype.interfaces.freesurfer as fs\n",
    "import pymeshlab as ml\n",
    "import collections\n",
    "import csv\n",
    "import numpy as np\n",
    "\n",
    "# !pip install numpy --upgrade\n",
    "# !pip install nipype"
   ]
  },
  {
   "cell_type": "code",
   "execution_count": 150,
   "id": "93258dcc",
   "metadata": {},
   "outputs": [],
   "source": [
    "def get_files(folder_name = 'output_lh'):\n",
    "    folders = []\n",
    "    wfiles = []\n",
    "    pfiles = []\n",
    "    for folder in os.listdir(folder_name):\n",
    "        if folder[0].isdigit():\n",
    "            folders.append(folder)\n",
    "            wfile = folder_name  + '/' + folder + '/'+folder+'_lh_white_Df2.white'\n",
    "            pfile = folder_name + '/'+folder+'/'+folder+'_lh_pial_Df2.pial'\n",
    "            wfiles.append(wfile)\n",
    "            pfiles.append(pfile)\n",
    "\n",
    "    print('There are ',len(folders), ' folders.','\\n')\n",
    "    print('First 2 folders:\\n', folders[:2],'\\n')\n",
    "\n",
    "    print('First 2 white Df2 files:\\n', wfiles[:2],'\\n')\n",
    "\n",
    "    print('First 2 pial Df2 files:\\n', pfiles[:2])\n",
    "    return folders,wfiles, pfiles"
   ]
  },
  {
   "cell_type": "code",
   "execution_count": 152,
   "id": "6bef0eb3",
   "metadata": {},
   "outputs": [
    {
     "name": "stdout",
     "output_type": "stream",
     "text": [
      "There are  107  folders. \n",
      "\n",
      "First 2 folders:\n",
      " ['200008', '200109'] \n",
      "\n",
      "First 2 white Df2 files:\n",
      " ['output_lh/200008/200008_lh_white_Df2.white', 'output_lh/200109/200109_lh_white_Df2.white'] \n",
      "\n",
      "First 2 pial Df2 files:\n",
      " ['output_lh/200008/200008_lh_pial_Df2.pial', 'output_lh/200109/200109_lh_pial_Df2.pial']\n"
     ]
    }
   ],
   "source": [
    "## get files\n",
    "folders, wfiles, pfiles = get_files(folder_name = 'output_lh')"
   ]
  },
  {
   "cell_type": "markdown",
   "id": "e2228894",
   "metadata": {},
   "source": [
    "## Convert Files"
   ]
  },
  {
   "cell_type": "code",
   "execution_count": 153,
   "id": "eec84c18",
   "metadata": {},
   "outputs": [],
   "source": [
    "def convert_files(wfiles):\n",
    "    for f in wfiles:\n",
    "        mris = fs.MRIsConvert()\n",
    "        mris.inputs.in_file = f\n",
    "        mris.inputs.out_datatype = 'stl'\n",
    "        mris.run()"
   ]
  },
  {
   "cell_type": "code",
   "execution_count": 155,
   "id": "0d1cb157",
   "metadata": {},
   "outputs": [],
   "source": [
    "## --------------------------Convert Files---------------------------------\n",
    "## uncomment following 2 lines to convert.\n",
    "# convert_files(wfiles)\n",
    "# convert_files(pfiles)"
   ]
  },
  {
   "cell_type": "markdown",
   "id": "c28a968d",
   "metadata": {},
   "source": [
    "## Calculate Distance"
   ]
  },
  {
   "cell_type": "code",
   "execution_count": 65,
   "id": "48140d27",
   "metadata": {},
   "outputs": [
    {
     "name": "stdout",
     "output_type": "stream",
     "text": [
      "There are  107  folders in total.\n",
      "\n",
      "\n",
      " Start calculating distance ...\n",
      "processing 10th folder ... \n",
      "processing 20th folder ... \n",
      "processing 30th folder ... \n",
      "processing 40th folder ... \n",
      "processing 50th folder ... \n",
      "processing 60th folder ... \n",
      "processing 70th folder ... \n",
      "processing 80th folder ... \n",
      "processing 90th folder ... \n",
      "processing 100th folder ... \n"
     ]
    }
   ],
   "source": [
    "## ------notice: calculating distance TAKES TIME----------------------------\n",
    "truth_folder_pre = '../../../../washbee/speedrun/deepcsr-preprocessed/'\n",
    "w_distance = collections.defaultdict(dict)\n",
    "p_distance = collections.defaultdict(dict)\n",
    "\n",
    "cnt = 0\n",
    "print(\"There are \", len(folders), \" folders in total.\\n\")\n",
    "print('\\n Start calculating distance ...')\n",
    "for f in folders:\n",
    "    cnt += 1\n",
    "    if cnt % 10 == 0:\n",
    "        print('processing {}th folder ... '.format(cnt))\n",
    "    wf_cvt = f + '_lh_white_Df2.white_converted.stl'\n",
    "    pf_cvt = f + '_lh_pial_Df2.pial_converted.stl'\n",
    "    lh_p = truth_folder_pre + f + '/lh_pial.stl'\n",
    "    lh_w = truth_folder_pre + f + '/lh_white.stl'\n",
    "    \n",
    "    ms = ml.MeshSet()\n",
    "    file_truth, file = lh_w, wf_cvt\n",
    "    ms.load_new_mesh(file_truth)\n",
    "    ms.load_new_mesh(file)\n",
    "    w_distance[f] = ms.get_hausdorff_distance()\n",
    "    \n",
    "    ms = ml.MeshSet()\n",
    "    file_truth, file = lh_p, pf_cvt\n",
    "    ms.load_new_mesh(file_truth)\n",
    "    ms.load_new_mesh(file)\n",
    "    p_distance[f] = ms.get_hausdorff_distance()"
   ]
  },
  {
   "cell_type": "markdown",
   "id": "0413fd62",
   "metadata": {},
   "source": [
    "# Save Distance to CSV file"
   ]
  },
  {
   "cell_type": "markdown",
   "id": "0e789174",
   "metadata": {},
   "source": [
    "## Save distance for white"
   ]
  },
  {
   "cell_type": "markdown",
   "id": "fc6fe746",
   "metadata": {},
   "source": [
    "### helper functions"
   ]
  },
  {
   "cell_type": "code",
   "execution_count": 144,
   "id": "7b899e40",
   "metadata": {},
   "outputs": [],
   "source": [
    "#----------------------Save values to a Dictionary-----------------\n",
    "def save_to_dic(w_distance, folders):\n",
    "    dic = collections.defaultdict(list)\n",
    "    measure_keys = list(w_distance['200008'].keys())\n",
    "    idx = []\n",
    "    for k in w_distance:\n",
    "        idx.append(k)\n",
    "        for key in measure_keys:\n",
    "            dic[key].append(w_distance[k][key])\n",
    "    ## add folder to w_distance\n",
    "    for f in folders:\n",
    "        w_distance[f]['folder'] = f\n",
    "    return dic, measure_keys\n",
    "\n",
    "#-----------------------Save Dictionary to CSV-----------------------------\n",
    "\n",
    "def save_to_csv(measure_keys, w_distance, csv_file_name = 'w_distance.csv'):\n",
    "    csv_columns = measure_keys\n",
    "    dict_data = list(w_distance.values())\n",
    "    csv_file = csv_file_name\n",
    "    try:\n",
    "        with open(csv_file, 'w') as csvfile:\n",
    "            writer = csv.DictWriter(csvfile, fieldnames=csv_columns)\n",
    "            writer.writeheader()\n",
    "            for data in dict_data:\n",
    "                writer.writerow(data)\n",
    "    except IOError:\n",
    "        print(\"I/O error\")"
   ]
  },
  {
   "cell_type": "markdown",
   "id": "49e8ef77",
   "metadata": {},
   "source": [
    "### Save distance for pial"
   ]
  },
  {
   "cell_type": "code",
   "execution_count": 147,
   "id": "a37afa65",
   "metadata": {},
   "outputs": [],
   "source": [
    "dic_p, measure_keys_p = save_to_dic(p_distance, folders)\n",
    "save_to_csv(measure_keys_p, p_distance, 'p_distance.csv')"
   ]
  },
  {
   "cell_type": "markdown",
   "id": "4bca5310",
   "metadata": {},
   "source": [
    "### Save distance for white"
   ]
  },
  {
   "cell_type": "code",
   "execution_count": 160,
   "id": "c8004777",
   "metadata": {},
   "outputs": [],
   "source": [
    "dic_w, measure_keys_w = save_to_dic(w_distance, folders)\n",
    "save_to_csv(measure_keys_w, w_distance, 'w_distance.csv')"
   ]
  },
  {
   "cell_type": "markdown",
   "id": "bcd0776e",
   "metadata": {},
   "source": [
    "## Preview statistics of the measurements."
   ]
  },
  {
   "cell_type": "code",
   "execution_count": 161,
   "id": "1eb02d02",
   "metadata": {},
   "outputs": [
    {
     "name": "stdout",
     "output_type": "stream",
     "text": [
      "--------pial model---------\n",
      "CorticalFlow Sample Counts 107\n",
      "            RMS  mean 0.56  median 0.55  std 0.05\n",
      "    diag_mesh_0  mean 232.76  median 232.6  std 3.0\n",
      "    diag_mesh_1  mean 231.21  median 230.95  std 2.86\n",
      "            max  mean 5.69  median 5.18  std 1.87\n",
      "           mean  mean 0.37  median 0.37  std 0.03\n",
      "            min  mean 0.0  median 0.0  std 0.0\n",
      "--------white model---------\n",
      "CorticalFlow Sample Counts 107\n",
      "            RMS  mean 0.53  median 0.5  std 0.09\n",
      "    diag_mesh_0  mean 221.94  median 222.11  std 2.76\n",
      "    diag_mesh_1  mean 221.73  median 221.61  std 2.87\n",
      "            max  mean 6.27  median 6.02  std 2.06\n",
      "           mean  mean 0.34  median 0.34  std 0.04\n",
      "            min  mean 0.0  median 0.0  std 0.0\n"
     ]
    }
   ],
   "source": [
    "# \n",
    "print('--------pial model---------')\n",
    "dic = dic_p\n",
    "\n",
    "print('CorticalFlow Sample Counts {}'.format(len(dic['max'])))\n",
    "for k in measure_keys:\n",
    "    if k not in ['folder','n_samples']:\n",
    "        print(k.rjust(15),' mean', round(np.mean(dic[k]),2), ' median', round(np.median(dic[k]),2), ' std', round(np.std(dic[k]),2))\n",
    "        \n",
    "print('--------white model---------')\n",
    "dic = dic_w\n",
    "\n",
    "print('CorticalFlow Sample Counts {}'.format(len(dic['max'])))\n",
    "for k in measure_keys:\n",
    "    if k not in ['folder','n_samples']:\n",
    "        print(k.rjust(15),' mean', round(np.mean(dic[k]),2), ' median', round(np.median(dic[k]),2), ' std', round(np.std(dic[k]),2))"
   ]
  }
 ],
 "metadata": {
  "kernelspec": {
   "display_name": "Python 3 (ipykernel)",
   "language": "python",
   "name": "python3"
  },
  "language_info": {
   "codemirror_mode": {
    "name": "ipython",
    "version": 3
   },
   "file_extension": ".py",
   "mimetype": "text/x-python",
   "name": "python",
   "nbconvert_exporter": "python",
   "pygments_lexer": "ipython3",
   "version": "3.8.10"
  }
 },
 "nbformat": 4,
 "nbformat_minor": 5
}
